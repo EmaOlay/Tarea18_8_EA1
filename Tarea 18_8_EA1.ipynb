{
 "cells": [
  {
   "cell_type": "markdown",
   "metadata": {},
   "source": [
    "<img src=\"./logo_UTN.svg\" align=\"right\" width=\"150\" /> \n",
    "#### Electronica Aplicada I\n",
    "\n",
    "# Problema de clase 18/8\n",
    "\n",
    "Se nos presento el siguiente desafio:<br>\n",
    "Con el circuito a continuacion debiamos hallar la forma de hacer Rin=Rs\n",
    "<img src=\"./circ_orgin.png\" align=\"center\" />\n",
    "Los datos para hacer esto fueron los siguientes:\n"
   ]
  },
  {
   "cell_type": "markdown",
   "metadata": {},
   "source": [
    "Vdd=3,3V;<br>\n",
    "Rs=50 ohm;<br>\n",
    "Diodo= 1N4148;<br>\n",
    "Vt=26mV;<br>"
   ]
  },
  {
   "cell_type": "markdown",
   "metadata": {},
   "source": [
    "Para esto hicimos un analisis de continua y de alterna:<br>\n",
    "En continua el circuito queda de la siguiente forma:<br>\n",
    "<img src=\"./circ_cont.png\" align=\"center\" />\n",
    "De aqui es evidente que la corriente esta dada por:<br>\n",
    "\\begin{equation*}\n",
    "I_D=\\frac{V_{DD}-V_D}{R}\n",
    "\\end{equation*}\n",
    "<br>\n",
    "Siendo Vd la caida de tension en el diodo<br>\n",
    "A su vez sabemos que la $R_d=\\frac{V_T}{I_D}$ <br>\n",
    "En alterna lo que vemos es lo siguiente:<br>\n",
    "<img src=\"./circ_alter.png\" align=\"center\" />\n",
    "A partir de este circuito vemos que la Rin es simplemente el paralelo de Rd con R dado por:<br>\n",
    "\\begin{equation*}\n",
    "R_{in}=\\frac{R*R_d}{R+R_d}\n",
    "\\end{equation*}"
   ]
  },
  {
   "cell_type": "code",
   "execution_count": 28,
   "metadata": {},
   "outputs": [
    {
     "name": "stdout",
     "output_type": "stream",
     "text": [
      "5.20e-04 Amperes\n",
      "0.026000000000000002\n",
      "50.00 Ohms\n",
      "49.505 Ohms\n"
     ]
    }
   ],
   "source": [
    "#Ahora para despejar\n",
    "from sympy import *\n",
    "Vdd=3.3\n",
    "R=5000\n",
    "Vd=0.7\n",
    "Id=(Vdd-Vd)/(R)\n",
    "Vt=26*10**(-3)\n",
    "\n",
    "print(\"{0:1.2e}\".format(Id),\"Amperes\")\n",
    "#Son unos 520uA\n",
    "print(Vt)\n",
    "Rd=Vt/Id\n",
    "print(\"{0:1.2f}\".format(Rd),\"Ohms\")\n",
    "Rin=(R*Rd)/(R+Rd)\n",
    "print(\"{0:1.3f}\".format(Rin),\"Ohms\")"
   ]
  },
  {
   "cell_type": "code",
   "execution_count": null,
   "metadata": {},
   "outputs": [],
   "source": []
  }
 ],
 "metadata": {
  "kernelspec": {
   "display_name": "Python 3",
   "language": "python",
   "name": "python3"
  },
  "language_info": {
   "codemirror_mode": {
    "name": "ipython",
    "version": 3
   },
   "file_extension": ".py",
   "mimetype": "text/x-python",
   "name": "python",
   "nbconvert_exporter": "python",
   "pygments_lexer": "ipython3",
   "version": "3.7.6"
  }
 },
 "nbformat": 4,
 "nbformat_minor": 4
}
