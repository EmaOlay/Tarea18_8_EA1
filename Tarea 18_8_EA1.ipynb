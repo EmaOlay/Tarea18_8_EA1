{
 "cells": [
  {
   "cell_type": "markdown",
   "metadata": {},
   "source": [
    "<img src=\"./logo_UTN.svg\" align=\"right\" width=\"150\" /> \n",
    "#### Electronica Aplicada I\n",
    "\n",
    "# Problema de clase 18/8\n",
    "\n",
    "Se nos presento el siguiente desafio:<br>\n",
    "Con el circuito a continuacion debiamos hallar la forma de hacer Rin=Rs\n",
    "<img src=\"./circ_orgin.png\" align=\"center\" />\n",
    "Los datos para hacer esto fueron los siguientes:\n"
   ]
  },
  {
   "cell_type": "markdown",
   "metadata": {},
   "source": [
    "Vdd=3,3V;<br>\n",
    "Rs=50 ohm;<br>\n",
    "Diodo= 1N4148;<br>\n",
    "Vt=26mV;<br>"
   ]
  },
  {
   "cell_type": "markdown",
   "metadata": {},
   "source": [
    "Para esto hicimos un analisis de continua y de alterna:<br>\n",
    "En continua el circuito queda de la siguiente forma:<br>\n",
    "<img src=\"./circ_cont.png\" align=\"center\" />\n",
    "De aqui es evidente que la corriente esta dada por:<br>\n",
    "\\begin{equation*}\n",
    "I_D=\\frac{V_{DD}-V_D}{R}\n",
    "\\end{equation*}\n",
    "<br>\n",
    "Siendo Vd la caida de tension en el diodo<br>\n",
    "A su vez sabemos que la $R_d=\\frac{V_T}{I_D}$ <br>\n",
    "En alterna lo que vemos es lo siguiente:<br>\n",
    "<img src=\"./circ_alter.png\" align=\"center\" />\n",
    "A partir de este circuito vemos que la Rin es simplemente el paralelo de Rd con R dado por:<br>\n",
    "\\begin{equation*}\n",
    "R_{in}=\\frac{R*R_d}{R+R_d}\n",
    "\\end{equation*}"
   ]
  },
  {
   "cell_type": "code",
   "execution_count": 24,
   "metadata": {},
   "outputs": [
    {
     "name": "stdout",
     "output_type": "stream",
     "text": [
      "El valor de la corriente Id es: 5.20e-04 Amperes\n",
      "El valor de Rd es: 50.00 Ohms\n",
      "El valor de Rin es: 49.505 Ohms\n"
     ]
    }
   ],
   "source": [
    "#Ahora para despejar\n",
    "from sympy import *\n",
    "Vdd=3.3\n",
    "R=5000\n",
    "Vd=0.7\n",
    "Id=(Vdd-Vd)/(R)\n",
    "Vt=26*10**(-3)\n",
    "\n",
    "print(\"El valor de la corriente Id es:\",\"{0:1.2e}\".format(Id),\"Amperes\")\n",
    "#Son unos 520uA\n",
    "\n",
    "Rd=Vt/Id\n",
    "#Rd=80.85\n",
    "print(\"El valor de Rd es:\",\"{0:1.2f}\".format(Rd),\"Ohms\")\n",
    "Rin=(R*Rd)/(R+Rd)\n",
    "print(\"El valor de Rin es:\",\"{0:1.3f}\".format(Rin),\"Ohms\")"
   ]
  },
  {
   "cell_type": "markdown",
   "metadata": {},
   "source": [
    "Esto hasta aca es muy lindo pero dejo de funcionar apenas abri la simulacion...<br>\n",
    "Ya que no se condice con la hoja de datos del 1N4148 que nos propusieron\n",
    "<img src=\"./curva.png\" align=\"center\" />\n",
    "Este diodo tiene una caida de Vd=0.7 cuando por el circulan 5mA, cosa que no estaria sucediendo por lo tanto lo volvi a hacer encarando otro camino.<br>\n",
    "Ahora me propuse primero tratar de fijar la corriente que iba a circular por el diodo, suponiendo primero un diodo ideal Vd=0.<br>\n",
    "\\begin{equation*}\n",
    "I_D=\\frac{V_{DD}-0}{R}\n",
    "\\end{equation*}\n",
    "Siendo que Vdd es dato 3.3V arbitrariamente elijo una R=3k3<br>\n",
    "\\begin{equation*}\n",
    "I_D=\\frac{3.3V-0}{3K3 ohm}=1mA\n",
    "\\end{equation*}\n",
    "Esto me dio un limite superior al cual respetar ya que ese valor seria el limite superior de corriente que circula por mi diodo suponiendolo ideal.<br>\n",
    "Lo que quiere decir que el valor de tension que estoy buscando(Vd) como mucho puede valer 0.62V. Lo cual no se condice con lo anterior...\n"
   ]
  },
  {
   "cell_type": "code",
   "execution_count": 25,
   "metadata": {},
   "outputs": [
    {
     "name": "stdout",
     "output_type": "stream",
     "text": [
      "El valor de la corriente Id es: 8.39e-04 Amperes\n",
      "El valor de Rd es: 30.97 Ohms\n",
      "El valor de Rin es: 30.687 Ohms\n"
     ]
    }
   ],
   "source": [
    "Vdd=3.3\n",
    "R=3300\n",
    "Vd=0.53\n",
    "Id=(Vdd-Vd)/(R)\n",
    "Vt=26*10**(-3)\n",
    "\n",
    "print(\"El valor de la corriente Id es:\",\"{0:1.2e}\".format(Id),\"Amperes\")\n",
    "#Son unos 812uA=0.812mA\n",
    "\n",
    "Rd=Vt/Id\n",
    "\n",
    "print(\"El valor de Rd es:\",\"{0:1.2f}\".format(Rd),\"Ohms\")\n",
    "\n",
    "Rin=(R*Rd)/(R+Rd)\n",
    "\n",
    "print(\"El valor de Rin es:\",\"{0:1.3f}\".format(Rin),\"Ohms\")"
   ]
  },
  {
   "cell_type": "markdown",
   "metadata": {},
   "source": [
    "Cuestion que la simulacion da pero no el modelo matematico ni idea! jajaja<br>\n",
    "por las dudas meto un datasheet\n",
    "https://pdf1.alldatasheet.es/datasheet-pdf/view/51381/FAIRCHILD/1N4148.html"
   ]
  },
  {
   "cell_type": "code",
   "execution_count": null,
   "metadata": {},
   "outputs": [],
   "source": []
  }
 ],
 "metadata": {
  "kernelspec": {
   "display_name": "Python 3",
   "language": "python",
   "name": "python3"
  },
  "language_info": {
   "codemirror_mode": {
    "name": "ipython",
    "version": 3
   },
   "file_extension": ".py",
   "mimetype": "text/x-python",
   "name": "python",
   "nbconvert_exporter": "python",
   "pygments_lexer": "ipython3",
   "version": "3.7.6"
  }
 },
 "nbformat": 4,
 "nbformat_minor": 4
}
